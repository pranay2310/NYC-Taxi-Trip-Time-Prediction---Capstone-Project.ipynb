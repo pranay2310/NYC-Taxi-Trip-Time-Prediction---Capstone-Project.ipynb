{
  "nbformat": 4,
  "nbformat_minor": 0,
  "metadata": {
    "kernelspec": {
      "display_name": "Python 3",
      "language": "python",
      "name": "python3"
    },
    "language_info": {
      "codemirror_mode": {
        "name": "ipython",
        "version": 3
      },
      "file_extension": ".py",
      "mimetype": "text/x-python",
      "name": "python",
      "nbconvert_exporter": "python",
      "pygments_lexer": "ipython3",
      "version": "3.6.6"
    },
    "colab": {
      "name": "NYC Taxi Trip Time Prediction - Capstone Project.ipynb",
      "provenance": [],
      "collapsed_sections": [],
      "include_colab_link": true
    }
  },
  "cells": [
    {
      "cell_type": "markdown",
      "metadata": {
        "id": "view-in-github",
        "colab_type": "text"
      },
      "source": [
        "<a href=\"https://colab.research.google.com/github/pranay2310/NYC-Taxi-Trip-Time-Prediction---Capstone-Project.ipynb/blob/main/NYC_Taxi_Trip_Time_Prediction_Capstone_Project.ipynb\" target=\"_parent\"><img src=\"https://colab.research.google.com/assets/colab-badge.svg\" alt=\"Open In Colab\"/></a>"
      ]
    },
    {
      "cell_type": "markdown",
      "metadata": {
        "id": "tOGC-qoyhJeX"
      },
      "source": [
        "# <b><u> Project Title : Taxi trip time Prediction : Predicting total ride duration of taxi trips in New York City</u></b>"
      ]
    },
    {
      "cell_type": "markdown",
      "metadata": {
        "id": "Y06xIdG26kRF"
      },
      "source": [
        "## <b> Problem Description </b>\n",
        "\n",
        "### Your task is to build a model that predicts the total ride duration of taxi trips in New York City. Your primary dataset is one released by the NYC Taxi and Limousine Commission, which includes pickup time, geo-coordinates, number of passengers, and several other variables."
      ]
    },
    {
      "cell_type": "markdown",
      "metadata": {
        "id": "WWeU1f9bwqQq"
      },
      "source": [
        "## <b> Data Description </b>\n",
        "\n",
        "### The dataset is based on the 2016 NYC Yellow Cab trip record data made available in Big Query on Google Cloud Platform. The data was originally published by the NYC Taxi and Limousine Commission (TLC). The data was sampled and cleaned for the purposes of this project. Based on individual trip attributes, you should predict the duration of each trip in the test set.\n",
        "\n",
        "### <b>NYC Taxi Data.csv</b> - the training set (contains 1458644 trip records)\n",
        "\n",
        "\n",
        "### Data fields\n",
        "* #### id - a unique identifier for each trip\n",
        "* #### vendor_id - a code indicating the provider associated with the trip record\n",
        "* #### pickup_datetime - date and time when the meter was engaged\n",
        "* #### dropoff_datetime - date and time when the meter was disengaged\n",
        "* #### passenger_count - the number of passengers in the vehicle (driver entered value)\n",
        "* #### pickup_longitude - the longitude where the meter was engaged\n",
        "* #### pickup_latitude - the latitude where the meter was engaged\n",
        "* #### dropoff_longitude - the longitude where the meter was disengaged\n",
        "* #### dropoff_latitude - the latitude where the meter was disengaged\n",
        "* #### store_and_fwd_flag - This flag indicates whether the trip record was held in vehicle memory before sending to the vendor because the vehicle did not have a connection to the server - Y=store and forward; N=not a store and forward trip\n",
        "* #### trip_duration - duration of the trip in seconds"
      ]
    },
    {
      "cell_type": "markdown",
      "source": [
        "#Data preprocessing"
      ],
      "metadata": {
        "id": "3OjaztMva6H-"
      }
    },
    {
      "cell_type": "code",
      "source": [
        "from google.colab import drive\n",
        "drive.mount('/content/drive')"
      ],
      "metadata": {
        "colab": {
          "base_uri": "https://localhost:8080/"
        },
        "id": "1r4zr84cbALW",
        "outputId": "71062349-52b3-430a-c009-dfd3381afdfe"
      },
      "execution_count": 1,
      "outputs": [
        {
          "output_type": "stream",
          "name": "stdout",
          "text": [
            "Mounted at /content/drive\n"
          ]
        }
      ]
    },
    {
      "cell_type": "code",
      "source": [
        "import pandas as pd\n",
        "import numpy as np\n",
        "import matplotlib.pyplot as plt\n",
        "import datetime as dt\n",
        "import seaborn as sns\n",
        "from sklearn import preprocessing\n",
        "import math"
      ],
      "metadata": {
        "id": "zLlHY2OGbVmO"
      },
      "execution_count": 2,
      "outputs": []
    },
    {
      "cell_type": "code",
      "source": [
        "#load NYC Taxi trip time dataset\n",
        "data = pd.read_csv('/content/drive/MyDrive/Almabetter/Capstone project/Project on nyc taxi/NYC Taxi Trip Time Prediction - Capstone Project.ipynb',sep=',')\n",
        "data.head()"
      ],
      "metadata": {
        "colab": {
          "base_uri": "https://localhost:8080/",
          "height": 212
        },
        "id": "4SEhcT8MbWRu",
        "outputId": "2956ab5c-3e85-421f-b74e-e9b407c0934e"
      },
      "execution_count": 4,
      "outputs": [
        {
          "output_type": "execute_result",
          "data": {
            "text/html": [
              "\n",
              "  <div id=\"df-efdda130-8975-4836-8343-3035a8858c02\">\n",
              "    <div class=\"colab-df-container\">\n",
              "      <div>\n",
              "<style scoped>\n",
              "    .dataframe tbody tr th:only-of-type {\n",
              "        vertical-align: middle;\n",
              "    }\n",
              "\n",
              "    .dataframe tbody tr th {\n",
              "        vertical-align: top;\n",
              "    }\n",
              "\n",
              "    .dataframe thead th {\n",
              "        text-align: right;\n",
              "    }\n",
              "</style>\n",
              "<table border=\"1\" class=\"dataframe\">\n",
              "  <thead>\n",
              "    <tr style=\"text-align: right;\">\n",
              "      <th></th>\n",
              "      <th>{\"nbformat\":4</th>\n",
              "      <th>nbformat_minor:0</th>\n",
              "      <th>metadata:{\"kernelspec\":{\"display_name\":\"Python 3\"</th>\n",
              "      <th>language:\"python\"</th>\n",
              "      <th>name:\"python3\"}</th>\n",
              "      <th>language_info:{\"codemirror_mode\":{\"name\":\"ipython\"</th>\n",
              "      <th>version:3}</th>\n",
              "      <th>file_extension:\".py\"</th>\n",
              "      <th>mimetype:\"text/x-python\"</th>\n",
              "      <th>name:\"python\"</th>\n",
              "      <th>...</th>\n",
              "      <th>\\u001b[0m \\u001b[0;34m\\\"strict\\\"\\u001b[0m\\u001b[0;34m)\\u001b[0m\\u001b[0;34m</th>\n",
              "      <th>\\u001b[0m\\u001b[0;34m\\u001b[0m\\u001b[0;34m\\u001b[0m\\u001b[0m\\n\\u001b[0m\\u001b[1;32m    230\\u001b[0m         )\\n\\u001b[1;32m    231\\u001b[0m \\u001b[0;34m\\u001b[0m\\u001b[0m\\n\"</th>\n",
              "      <th>\\u001b[0;32m/usr/local/lib/python3.7/dist-packages/pandas/io/common.py\\u001b[0m in \\u001b[0;36mget_handle\\u001b[0;34m(path_or_buf, mode, encoding, compression, memory_map, is_text, errors, storage_options)\\u001b[0m\\n\\u001b[1;32m    705\\u001b[0m                 \\u001b[0mencoding\\u001b[0m\\u001b[0;34m=\\u001b[0m\\u001b[0mioargs\\u001b[0m\\u001b[0;34m.\\u001b[0m\\u001b[0mencoding\\u001b[0m\\u001b[0;34m,\\u001b[0m\\u001b[0;34m\\u001b[0m\\u001b[0;34m\\u001b[0m\\u001b[0m\\n\\u001b[1;32m    706\\u001b[0m                 \\u001b[0merrors\\u001b[0m\\u001b[0;34m=\\u001b[0m\\u001b[0merrors\\u001b[0m\\u001b[0;34m,\\u001b[0m\\u001b[0;34m\\u001b[0m\\u001b[0;34m\\u001b[0m\\u001b[0m\\n\\u001b[0;32m--&gt; 707\\u001b[0;31m                 \\u001b[0mnewline\\u001b[0m\\u001b[0;34m=\\u001b[0m\\u001b[0;34m\\\\\"\\u001b[0m\\u001b[0;34m</th>\n",
              "      <th>\\u001b[0m\\u001b[0;34m\\u001b[0m\\u001b[0;34m\\u001b[0m\\u001b[0m\\n\\u001b[0m\\u001b[1;32m    708\\u001b[0m             )\\n\\u001b[1;32m    709\\u001b[0m         \\u001b[0;32melse\\u001b[0m\\u001b[0;34m:\\u001b[0m\\u001b[0;34m\\u001b[0m\\u001b[0;34m\\u001b[0m\\u001b[0m\\n\"</th>\n",
              "      <th>\\u001b[0;31mFileNotFoundError\\u001b[0m: [Errno 2] No such file or directory: '/content/drive/MyDrive/alma_better/capstone_project/NYC_Taxi_trip_project/NYC_Taxi_Data.csv']}]}</th>\n",
              "      <th>{\"cell_type\":\"code\".3</th>\n",
              "      <th>source:[\"\"]</th>\n",
              "      <th>metadata:{\"id\":\"fCvQsTMCbdlD\"}</th>\n",
              "      <th>execution_count:null</th>\n",
              "      <th>outputs:[]}]}</th>\n",
              "    </tr>\n",
              "  </thead>\n",
              "  <tbody>\n",
              "  </tbody>\n",
              "</table>\n",
              "<p>0 rows × 130 columns</p>\n",
              "</div>\n",
              "      <button class=\"colab-df-convert\" onclick=\"convertToInteractive('df-efdda130-8975-4836-8343-3035a8858c02')\"\n",
              "              title=\"Convert this dataframe to an interactive table.\"\n",
              "              style=\"display:none;\">\n",
              "        \n",
              "  <svg xmlns=\"http://www.w3.org/2000/svg\" height=\"24px\"viewBox=\"0 0 24 24\"\n",
              "       width=\"24px\">\n",
              "    <path d=\"M0 0h24v24H0V0z\" fill=\"none\"/>\n",
              "    <path d=\"M18.56 5.44l.94 2.06.94-2.06 2.06-.94-2.06-.94-.94-2.06-.94 2.06-2.06.94zm-11 1L8.5 8.5l.94-2.06 2.06-.94-2.06-.94L8.5 2.5l-.94 2.06-2.06.94zm10 10l.94 2.06.94-2.06 2.06-.94-2.06-.94-.94-2.06-.94 2.06-2.06.94z\"/><path d=\"M17.41 7.96l-1.37-1.37c-.4-.4-.92-.59-1.43-.59-.52 0-1.04.2-1.43.59L10.3 9.45l-7.72 7.72c-.78.78-.78 2.05 0 2.83L4 21.41c.39.39.9.59 1.41.59.51 0 1.02-.2 1.41-.59l7.78-7.78 2.81-2.81c.8-.78.8-2.07 0-2.86zM5.41 20L4 18.59l7.72-7.72 1.47 1.35L5.41 20z\"/>\n",
              "  </svg>\n",
              "      </button>\n",
              "      \n",
              "  <style>\n",
              "    .colab-df-container {\n",
              "      display:flex;\n",
              "      flex-wrap:wrap;\n",
              "      gap: 12px;\n",
              "    }\n",
              "\n",
              "    .colab-df-convert {\n",
              "      background-color: #E8F0FE;\n",
              "      border: none;\n",
              "      border-radius: 50%;\n",
              "      cursor: pointer;\n",
              "      display: none;\n",
              "      fill: #1967D2;\n",
              "      height: 32px;\n",
              "      padding: 0 0 0 0;\n",
              "      width: 32px;\n",
              "    }\n",
              "\n",
              "    .colab-df-convert:hover {\n",
              "      background-color: #E2EBFA;\n",
              "      box-shadow: 0px 1px 2px rgba(60, 64, 67, 0.3), 0px 1px 3px 1px rgba(60, 64, 67, 0.15);\n",
              "      fill: #174EA6;\n",
              "    }\n",
              "\n",
              "    [theme=dark] .colab-df-convert {\n",
              "      background-color: #3B4455;\n",
              "      fill: #D2E3FC;\n",
              "    }\n",
              "\n",
              "    [theme=dark] .colab-df-convert:hover {\n",
              "      background-color: #434B5C;\n",
              "      box-shadow: 0px 1px 3px 1px rgba(0, 0, 0, 0.15);\n",
              "      filter: drop-shadow(0px 1px 2px rgba(0, 0, 0, 0.3));\n",
              "      fill: #FFFFFF;\n",
              "    }\n",
              "  </style>\n",
              "\n",
              "      <script>\n",
              "        const buttonEl =\n",
              "          document.querySelector('#df-efdda130-8975-4836-8343-3035a8858c02 button.colab-df-convert');\n",
              "        buttonEl.style.display =\n",
              "          google.colab.kernel.accessAllowed ? 'block' : 'none';\n",
              "\n",
              "        async function convertToInteractive(key) {\n",
              "          const element = document.querySelector('#df-efdda130-8975-4836-8343-3035a8858c02');\n",
              "          const dataTable =\n",
              "            await google.colab.kernel.invokeFunction('convertToInteractive',\n",
              "                                                     [key], {});\n",
              "          if (!dataTable) return;\n",
              "\n",
              "          const docLinkHtml = 'Like what you see? Visit the ' +\n",
              "            '<a target=\"_blank\" href=https://colab.research.google.com/notebooks/data_table.ipynb>data table notebook</a>'\n",
              "            + ' to learn more about interactive tables.';\n",
              "          element.innerHTML = '';\n",
              "          dataTable['output_type'] = 'display_data';\n",
              "          await google.colab.output.renderOutput(dataTable, element);\n",
              "          const docLink = document.createElement('div');\n",
              "          docLink.innerHTML = docLinkHtml;\n",
              "          element.appendChild(docLink);\n",
              "        }\n",
              "      </script>\n",
              "    </div>\n",
              "  </div>\n",
              "  "
            ],
            "text/plain": [
              "Empty DataFrame\n",
              "Columns: [{\"nbformat\":4, nbformat_minor:0, metadata:{\"kernelspec\":{\"display_name\":\"Python 3\", language:\"python\", name:\"python3\"}, language_info:{\"codemirror_mode\":{\"name\":\"ipython\", version:3}, file_extension:\".py\", mimetype:\"text/x-python\", name:\"python\", nbconvert_exporter:\"python\", pygments_lexer:\"ipython3\", version:\"3.6.6\"}, colab:{\"name\":\"NYC Taxi Trip Time Prediction - Capstone Project.ipynb\", provenance:[{\"file_id\":\"1L-XO5jjcEqbVJ4GjNT_RGu36IpoqH2LM\", timestamp:1646991891187}, {\"file_id\":\"1KNx2-lMsfxLj8Qi5Ez9LOXpMHRWtSHNK\", timestamp:1604585315628}], collapsed_sections:[]}}, cells:[{\"cell_type\":\"markdown\", metadata:{\"id\":\"tOGC-qoyhJeX\"}, source:[\"# <b><u> Project Title : Taxi trip time Prediction : Predicting total ride duration of taxi trips in New York City</u></b>\"]}, {\"cell_type\":\"markdown\", metadata:{\"id\":\"Y06xIdG26kRF\"}, source:[\"## <b> Problem Description </b>\\n\", \\n, ### Your task is to build a model that predicts the total ride duration of taxi trips in New York City. Your primary dataset is one released by the NYC Taxi and Limousine Commission, which includes pickup time, geo-coordinates, number of passengers, and several other variables.]}, {\"cell_type\":\"markdown\".1, metadata:{\"id\":\"WWeU1f9bwqQq\"}, source:[\"## <b> Data Description </b>\\n\", \\n.1, ### The dataset is based on the 2016 NYC Yellow Cab trip record data made available in Big Query on Google Cloud Platform. The data was originally published by the NYC Taxi and Limousine Commission (TLC). The data was sampled and cleaned for the purposes of this project. Based on individual trip attributes, you should predict the duration of each trip in the test set.\\n, \\n.2, ### <b>NYC Taxi Data.csv</b> - the training set (contains 1458644 trip records)\\n, \\n.3, \\n.4, ### Data fields\\n, * #### id - a unique identifier for each trip\\n, * #### vendor_id - a code indicating the provider associated with the trip record\\n, * #### pickup_datetime - date and time when the meter was engaged\\n, * #### dropoff_datetime - date and time when the meter was disengaged\\n, * #### passenger_count - the number of passengers in the vehicle (driver entered value)\\n, * #### pickup_longitude - the longitude where the meter was engaged\\n, * #### pickup_latitude - the latitude where the meter was engaged\\n, * #### dropoff_longitude - the longitude where the meter was disengaged\\n, * #### dropoff_latitude - the latitude where the meter was disengaged\\n, * #### store_and_fwd_flag - This flag indicates whether the trip record was held in vehicle memory before sending to the vendor because the vehicle did not have a connection to the server - Y=store and forward; N=not a store and forward trip\\n, * #### trip_duration - duration of the trip in seconds]}, {\"cell_type\":\"markdown\".2, source:[\"#Data preprocessing\"], metadata:{\"id\":\"3OjaztMva6H-\"}}, {\"cell_type\":\"code\", source:[\"from google.colab import drive\\n\", drive.mount('/content/drive')], metadata:{\"colab\":{\"base_uri\":\"https://localhost:8080/\"}, id:\"1r4zr84cbALW\", executionInfo:{\"status\":\"ok\", timestamp:1646992881073, user_tz:-330, elapsed:49642, user:{\"displayName\":\"Pranaysagar Bhelave\", photoUrl:\"https://lh3.googleusercontent.com/a-/AOh14GhFkePuM3grAXa8eV7c1hC9lpz6O8TwVjZlCkDAmg=s64\", userId:\"13425032053271760330\"}}, outputId:\"71062349-52b3-430a-c009-dfd3381afdfe\"}, execution_count:1, outputs:[{\"output_type\":\"stream\", name:\"stdout\", text:[\"Mounted at /content/drive\\n\"]}]}, {\"cell_type\":\"code\".1, source:[\"import pandas as pd\\n\", import numpy as np\\n, import matplotlib.pyplot as plt\\n, import datetime as dt\\n, import seaborn as sns\\n, from sklearn import preprocessing\\n, import math], metadata:{\"id\":\"zLlHY2OGbVmO\", executionInfo:{\"status\":\"ok\".1, timestamp:1646992912625, user_tz:-330.1, elapsed:7, user:{\"displayName\":\"Pranaysagar Bhelave\".1, photoUrl:\"https://lh3.googleusercontent.com/a-/AOh14GhFkePuM3grAXa8eV7c1hC9lpz6O8TwVjZlCkDAmg=s64\".1, userId:\"13425032053271760330\"}}}, execution_count:2, outputs:[]}, {\"cell_type\":\"code\".2, source:[\"#load NYC Taxi trip time dataset\\n\", data = pd.read_csv('/content/drive/MyDrive/alma_better/capstone_project/NYC_Taxi_trip_project/NYC_Taxi_Data.csv',sep=',')\\n, data.head()], metadata:{\"colab\":{\"base_uri\":\"https://localhost:8080/\", height:346}, id:\"4SEhcT8MbWRu\", executionInfo:{\"status\":\"error\", timestamp:1646992940989, user_tz:-330.2, elapsed:521, user:{\"displayName\":\"Pranaysagar Bhelave\".2, photoUrl:\"https://lh3.googleusercontent.com/a-/AOh14GhFkePuM3grAXa8eV7c1hC9lpz6O8TwVjZlCkDAmg=s64\".2, userId:\"13425032053271760330\"}}.1, ...]\n",
              "Index: []\n",
              "\n",
              "[0 rows x 130 columns]"
            ]
          },
          "metadata": {},
          "execution_count": 4
        }
      ]
    },
    {
      "cell_type": "code",
      "source": [
        ""
      ],
      "metadata": {
        "id": "fCvQsTMCbdlD"
      },
      "execution_count": null,
      "outputs": []
    }
  ]
}