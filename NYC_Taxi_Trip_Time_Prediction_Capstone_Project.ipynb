{
  "cells": [
    {
      "cell_type": "markdown",
      "metadata": {
        "id": "view-in-github",
        "colab_type": "text"
      },
      "source": [
        "<a href=\"https://colab.research.google.com/github/pranay2310/NYC-Taxi-Trip-Time-Prediction---Capstone-Project.ipynb/blob/main/NYC_Taxi_Trip_Time_Prediction_Capstone_Project.ipynb\" target=\"_parent\"><img src=\"https://colab.research.google.com/assets/colab-badge.svg\" alt=\"Open In Colab\"/></a>"
      ]
    },
    {
      "cell_type": "markdown",
      "metadata": {
        "id": "tOGC-qoyhJeX"
      },
      "source": [
        "# <b><u> Project Title : Taxi trip time Prediction : Predicting total ride duration of taxi trips in New York City</u></b>"
      ]
    },
    {
      "cell_type": "markdown",
      "metadata": {
        "id": "Y06xIdG26kRF"
      },
      "source": [
        "## <b> Problem Description </b>\n",
        "\n",
        "### Your task is to build a model that predicts the total ride duration of taxi trips in New York City. Your primary dataset is one released by the NYC Taxi and Limousine Commission, which includes pickup time, geo-coordinates, number of passengers, and several other variables."
      ]
    },
    {
      "cell_type": "markdown",
      "metadata": {
        "id": "WWeU1f9bwqQq"
      },
      "source": [
        "## <b> Data Description </b>\n",
        "\n",
        "### The dataset is based on the 2016 NYC Yellow Cab trip record data made available in Big Query on Google Cloud Platform. The data was originally published by the NYC Taxi and Limousine Commission (TLC). The data was sampled and cleaned for the purposes of this project. Based on individual trip attributes, you should predict the duration of each trip in the test set.\n",
        "\n",
        "### <b>NYC Taxi Data.csv</b> - the training set (contains 1458644 trip records)\n",
        "\n",
        "\n",
        "### Data fields\n",
        "* #### id - a unique identifier for each trip\n",
        "* #### vendor_id - a code indicating the provider associated with the trip record\n",
        "* #### pickup_datetime - date and time when the meter was engaged\n",
        "* #### dropoff_datetime - date and time when the meter was disengaged\n",
        "* #### passenger_count - the number of passengers in the vehicle (driver entered value)\n",
        "* #### pickup_longitude - the longitude where the meter was engaged\n",
        "* #### pickup_latitude - the latitude where the meter was engaged\n",
        "* #### dropoff_longitude - the longitude where the meter was disengaged\n",
        "* #### dropoff_latitude - the latitude where the meter was disengaged\n",
        "* #### store_and_fwd_flag - This flag indicates whether the trip record was held in vehicle memory before sending to the vendor because the vehicle did not have a connection to the server - Y=store and forward; N=not a store and forward trip\n",
        "* #### trip_duration - duration of the trip in seconds"
      ]
    },
    {
      "cell_type": "markdown",
      "metadata": {
        "id": "3OjaztMva6H-"
      },
      "source": [
        "#Data preprocessing"
      ]
    },
    {
      "cell_type": "code",
      "execution_count": null,
      "metadata": {
        "id": "1r4zr84cbALW"
      },
      "outputs": [],
      "source": [
        "from google.colab import drive\n",
        "drive.mount('/content/drive')"
      ]
    },
    {
      "cell_type": "code",
      "execution_count": null,
      "metadata": {
        "id": "zLlHY2OGbVmO"
      },
      "outputs": [],
      "source": [
        "import pandas as pd\n",
        "import numpy as np\n",
        "import matplotlib.pyplot as plt\n",
        "import datetime as dt\n",
        "import seaborn as sns\n",
        "from sklearn import preprocessing\n",
        "import math"
      ]
    },
    {
      "cell_type": "code",
      "execution_count": null,
      "metadata": {
        "id": "4SEhcT8MbWRu"
      },
      "outputs": [],
      "source": [
        "#load NYC Taxi trip time dataset\n",
        "data = pd.read_csv('/content/drive/MyDrive/Copy of NYC_Taxi_Data.csv')\n",
        "data.head()"
      ]
    },
    {
      "cell_type": "code",
      "execution_count": null,
      "metadata": {
        "id": "fCvQsTMCbdlD"
      },
      "outputs": [],
      "source": [
        "data.info()"
      ]
    },
    {
      "cell_type": "code",
      "execution_count": null,
      "metadata": {
        "id": "occl0QRzfHiS"
      },
      "outputs": [],
      "source": [
        "data['pickup_datetime'] = pd.to_datetime(data['pickup_datetime'])\n",
        "data['dropoff_datetime'] = pd.to_datetime(data['dropoff_datetime'])"
      ]
    },
    {
      "cell_type": "code",
      "execution_count": null,
      "metadata": {
        "id": "8efEkELVfcUH"
      },
      "outputs": [],
      "source": [
        "data.describe().apply(lambda s: s.apply(lambda x: format(x, 'g'))) # to change scientific value to count value"
      ]
    },
    {
      "cell_type": "markdown",
      "metadata": {
        "id": "C6cdJlNDstKV"
      },
      "source": [
        "Finding Distance by using pickup_lat,pickup_long,dropoff_lat,dropoff_long values"
      ]
    },
    {
      "cell_type": "code",
      "execution_count": null,
      "metadata": {
        "id": "Y3_GnoGYgbdF"
      },
      "outputs": [],
      "source": [
        "from geopy.distance import great_circle"
      ]
    },
    {
      "cell_type": "code",
      "execution_count": null,
      "metadata": {
        "id": "OZeDG8R8shNT"
      },
      "outputs": [],
      "source": [
        "def find_distance(pickup_lat,pickup_long,dropoff_lat,dropoff_long):\n",
        " \n",
        " start=(pickup_lat,pickup_long)\n",
        " end=(dropoff_lat,dropoff_long)\n",
        " \n",
        " return great_circle(start,end).km"
      ]
    },
    {
      "cell_type": "code",
      "execution_count": null,
      "metadata": {
        "id": "iFnzh-bysylp"
      },
      "outputs": [],
      "source": [
        "#finding distance travel in each trip\n",
        "data['distance'] = data.apply(lambda x: find_distance(x['pickup_latitude'],\n",
        "                                                      x['pickup_longitude'],\n",
        "                                                      x['dropoff_latitude'],\n",
        "                                                      x['dropoff_longitude'] ), axis=1)"
      ]
    },
    {
      "cell_type": "markdown",
      "metadata": {
        "id": "d9AwiHGvtKl0"
      },
      "source": [
        "#feature creation"
      ]
    },
    {
      "cell_type": "markdown",
      "metadata": {
        "id": "4yEU4nUxtPX7"
      },
      "source": [
        "AVG SPEED OF VEHICLE"
      ]
    },
    {
      "cell_type": "code",
      "execution_count": null,
      "metadata": {
        "id": "c2qKiDNKtEIW"
      },
      "outputs": [],
      "source": [
        "data['avg_speed'] = (data.distance/(data.trip_duration/3600))"
      ]
    },
    {
      "cell_type": "code",
      "execution_count": null,
      "metadata": {
        "id": "SW8lBAwgtS9L"
      },
      "outputs": [],
      "source": [
        "data['pickup_weekday']=data['pickup_datetime'].dt.day_name()\n",
        "data['dropoff_weekday']=data['dropoff_datetime'].dt.day_name()\n",
        "data['pickup_weekday_num']=data['pickup_datetime'].dt.weekday\n",
        "data['pickup_hour']=data['pickup_datetime'].dt.hour\n",
        "data['month']=data['pickup_datetime'].dt.month"
      ]
    },
    {
      "cell_type": "markdown",
      "metadata": {
        "id": "xZadj0Wdr3Rd"
      },
      "source": [
        "divided time zone into four main catogory <br>\n",
        "\n",
        "\n",
        "*   Morning (6AM to 12PM)\n",
        "*   Afternoon (12 PM to 4 PM)\n",
        "*   Evening (4PM to 10 PM)\n",
        "*   Late night (10PM to 6AM)\n",
        "\n",
        "\n",
        "\n"
      ]
    },
    {
      "cell_type": "code",
      "execution_count": null,
      "metadata": {
        "id": "LXOvCSMCrtao"
      },
      "outputs": [],
      "source": [
        "# at which time customer board taxi \n",
        "def time_of_day(x):\n",
        "    if x in range(6,12):\n",
        "        return 'Morning'\n",
        "    elif x in range(12,16):\n",
        "        return 'Afternoon'\n",
        "    elif x in range(16,22):\n",
        "        return 'Evening'\n",
        "    else:\n",
        "        return 'Late night'"
      ]
    },
    {
      "cell_type": "code",
      "execution_count": null,
      "metadata": {
        "id": "TpZ8_5UCr4dT"
      },
      "outputs": [],
      "source": [
        "data['pickup_timeofday']=data['pickup_hour'].apply(time_of_day)"
      ]
    },
    {
      "cell_type": "code",
      "execution_count": null,
      "metadata": {
        "id": "kVuCf4mWr9I-"
      },
      "outputs": [],
      "source": [
        "data.describe().apply(lambda s: s.apply(lambda x: format(x, 'g')))"
      ]
    },
    {
      "cell_type": "code",
      "execution_count": null,
      "metadata": {
        "id": "ylOPZ7JjsA85"
      },
      "outputs": [],
      "source": [
        "data.shape"
      ]
    },
    {
      "cell_type": "code",
      "execution_count": null,
      "metadata": {
        "id": "XrutMDJMsEFz"
      },
      "outputs": [],
      "source": [
        "data.columns"
      ]
    },
    {
      "cell_type": "markdown",
      "metadata": {
        "id": "XjT7clAq5glz"
      },
      "source": [
        "# Univariate Analysis"
      ]
    },
    {
      "cell_type": "code",
      "execution_count": null,
      "metadata": {
        "id": "8sWzLDwRsHQ8"
      },
      "outputs": [],
      "source": [
        "plt.rcParams[\"figure.figsize\"] = [10,6]"
      ]
    },
    {
      "cell_type": "code",
      "execution_count": null,
      "metadata": {
        "id": "-_ZgndNC5vTb"
      },
      "outputs": [],
      "source": [
        "data.head()"
      ]
    },
    {
      "cell_type": "markdown",
      "metadata": {
        "id": "Kt4h3kVD6iZU"
      },
      "source": [
        "##Column 1 and 2: column 'id' and 'vendor_id' <br>\n",
        "There are only two vendor who provided service"
      ]
    },
    {
      "cell_type": "code",
      "execution_count": null,
      "metadata": {
        "id": "hvtmMX5U6alJ"
      },
      "outputs": [],
      "source": [
        "sns.countplot(data.vendor_id)\n",
        "plt.xlabel('Vendor ID')\n",
        "plt.ylabel('Count')\n",
        "plt.show()"
      ]
    },
    {
      "cell_type": "markdown",
      "metadata": {
        "id": "ggN3WFoj6qkQ"
      },
      "source": [
        "## **column 3 and column 4**: from'pickup_datetime' and 'dropoff_datetime' column we created new feature column like '**pickup_weekday**', '**dropoff_weekday**' '**pickup_weekday_num**', '**pickup_hour \tmonth**', and '**pickup_timeofday**'."
      ]
    },
    {
      "cell_type": "markdown",
      "metadata": {
        "id": "ImrQlVJn6ugr"
      },
      "source": [
        "##**column 5: Passenger_count** <br>\n",
        "from the graph, we can see that there are few trips with passenger broad a taxi is too low. it may be outliers so going to reomve entries with 0, 7, 8, 9 passenger per trip.\n"
      ]
    },
    {
      "cell_type": "code",
      "execution_count": null,
      "metadata": {
        "id": "cXGCL8dD6e1V"
      },
      "outputs": [],
      "source": [
        "data.passenger_count.value_counts().plot(kind=\"bar\")\n",
        "plt.xlabel(\"number of passenger\")\n",
        "plt.ylabel(\"No of entries\")\n",
        "plt.title(\"Maximum number of passenger  per trip\")\n",
        "plt.show()\n",
        "\n"
      ]
    },
    {
      "cell_type": "markdown",
      "metadata": {
        "id": "R18JAA6s62k4"
      },
      "source": [
        "## column 6: pickup_latitude \tpickup_longitude <br>\n"
      ]
    },
    {
      "cell_type": "code",
      "execution_count": null,
      "metadata": {
        "id": "mFmz6_uJ6ypH"
      },
      "outputs": [],
      "source": [
        "import folium\n",
        "from folium.plugins import HeatMap\n",
        "from folium import plugins\n"
      ]
    },
    {
      "cell_type": "code",
      "execution_count": null,
      "metadata": {
        "id": "jAwj5_Rh67fx"
      },
      "outputs": [],
      "source": [
        "map_NYC = folium.Map([60,-120],zoom_start=7)"
      ]
    },
    {
      "cell_type": "code",
      "execution_count": null,
      "metadata": {
        "id": "yuw5sTq36_u_"
      },
      "outputs": [],
      "source": [
        "'''station = data[['pickup_longitude','pickup_latitude']]\n",
        "# convert to (n, 2) nd-array format for heatmap\n",
        "stationArr = station.values\n",
        "\n",
        "# plot heatmap\n",
        "map_NYC.add_child(plugins.HeatMap(stationArr, radius=15))\n",
        "map_NYC'''"
      ]
    },
    {
      "cell_type": "markdown",
      "metadata": {
        "id": "Oq5xlFVu8OtL"
      },
      "source": [
        "## column 8 & 9: dropoff_latitude \tdropoff_longitude <br>"
      ]
    },
    {
      "cell_type": "code",
      "execution_count": null,
      "metadata": {
        "id": "4w0FQuJw7Efy"
      },
      "outputs": [],
      "source": [
        "map_NYC = folium.Map([40.80902,-73.94190],zoom_start=7)"
      ]
    },
    {
      "cell_type": "code",
      "execution_count": null,
      "metadata": {
        "id": "MRhjGkM88U60"
      },
      "outputs": [],
      "source": [
        "'''station_drop = data[['dropoff_latitude', 'dropoff_longitude']]\n",
        "# convert to (n, 2) nd-array format for heatmap\n",
        "stationArr_drop = station_drop.values\n",
        "\n",
        "# plot heatmap\n",
        "map_NYC.add_child(plugins.HeatMap(stationArr_drop, radius=15))\n",
        "map_NYC'''"
      ]
    },
    {
      "cell_type": "markdown",
      "metadata": {
        "id": "FHdXd8iG8b5X"
      },
      "source": [
        "## column 10: Store and forward flag <br>\n",
        "only two observation  are included in this feature"
      ]
    },
    {
      "cell_type": "code",
      "execution_count": null,
      "metadata": {
        "id": "NwNwSiU18Xj9"
      },
      "outputs": [],
      "source": [
        "sns.countplot(x='store_and_fwd_flag',data=data)\n",
        "plt.ylabel('Count')\n",
        "plt.xlabel('Store and forward flag')\n",
        "plt.show()"
      ]
    },
    {
      "cell_type": "markdown",
      "metadata": {
        "id": "jo-eeZNR8j5-"
      },
      "source": [
        " We can see that only about 0.5% of the trip details were stored in the vehicle memory first"
      ]
    },
    {
      "cell_type": "markdown",
      "metadata": {
        "id": "tbM4Ya6A8qpN"
      },
      "source": [
        "##column 11: trip duration <br>\n"
      ]
    },
    {
      "cell_type": "code",
      "execution_count": null,
      "metadata": {
        "id": "6UmCVU2_8gUK"
      },
      "outputs": [],
      "source": [
        "#create boxplot to check probable outliers\n",
        "sns.boxplot(data.trip_duration)\n",
        "plt.xlabel('Trip Duration')\n",
        "plt.show()"
      ]
    },
    {
      "cell_type": "code",
      "execution_count": null,
      "metadata": {
        "id": "ijAVzI4a8tz4"
      },
      "outputs": [],
      "source": [
        "#to check skewness of data \n",
        "sns.distplot(data['trip_duration'],norm_hist=True)\n",
        "plt.title(\"Trip duration before normalization\")\n",
        "plt.show()"
      ]
    },
    {
      "cell_type": "code",
      "execution_count": null,
      "metadata": {
        "id": "i_nDJeat80WT"
      },
      "outputs": [],
      "source": [
        "print(f\" skew coefficient is {data['trip_duration'].skew()}\")"
      ]
    },
    {
      "cell_type": "markdown",
      "metadata": {
        "id": "mTgF6jIZKair"
      },
      "source": [
        "data is right skewed. using log transformation we can remove skewness."
      ]
    },
    {
      "cell_type": "code",
      "execution_count": null,
      "metadata": {
        "id": "REvDKQ9cKTEY"
      },
      "outputs": [],
      "source": [
        "sns.distplot(np.log(data['trip_duration']))\n",
        "plt.title(\"Trip duration after normalization\")\n",
        "plt.show()"
      ]
    },
    {
      "cell_type": "code",
      "execution_count": null,
      "metadata": {
        "id": "oEaINzx1KguV"
      },
      "outputs": [],
      "source": [
        "np.log(data['trip_duration'])\n",
        "data_trip_duration = np.log(data['trip_duration'])\n",
        "print(f\" skew coefficient went from {data['trip_duration'].skew()} to {data_trip_duration.skew()}\")"
      ]
    },
    {
      "cell_type": "markdown",
      "metadata": {
        "id": "VNp82YA-KnMH"
      },
      "source": [
        "## column 12: distance <br>"
      ]
    },
    {
      "cell_type": "code",
      "execution_count": null,
      "metadata": {
        "id": "g6n0x3RBKkMo"
      },
      "outputs": [],
      "source": [
        "sns.boxplot(data.distance)\n",
        "plt.xlabel('Distance')\n",
        "plt.show()"
      ]
    },
    {
      "cell_type": "code",
      "execution_count": null,
      "metadata": {
        "id": "c-Z2QsxpKp6E"
      },
      "outputs": [],
      "source": [
        "\n",
        "sns.displot(data=data, x='distance', height=7,aspect=1)\n",
        "plt.title(\"Distance travelled per trip (before normalization)\")\n",
        "plt.show()"
      ]
    },
    {
      "cell_type": "code",
      "execution_count": null,
      "metadata": {
        "id": "LxDbluGnKtxd"
      },
      "outputs": [],
      "source": [
        "print(f\"Skew coefficient is {data['distance'].skew()}\")"
      ]
    },
    {
      "cell_type": "code",
      "execution_count": null,
      "metadata": {
        "id": "HEKlt5ZMKw-5"
      },
      "outputs": [],
      "source": [
        "sns.displot(np.log(data[\"distance\"]), height=7,aspect=1.5)\n",
        "plt.title(\"Distance travelled per trip (after normalization)\")\n",
        "plt.show()"
      ]
    },
    {
      "cell_type": "code",
      "execution_count": null,
      "metadata": {
        "id": "6HyRyLu1Kz2Q"
      },
      "outputs": [],
      "source": [
        "distance_log_skew = np.log(data['distance']).skew()\n",
        "print(f\" Skew coefficient went from {data['distance'].skew()} to {distance_log_skew}\")"
      ]
    },
    {
      "cell_type": "markdown",
      "metadata": {
        "id": "j3KDpD-_LLLk"
      },
      "source": [
        "## column 13: Average speed"
      ]
    },
    {
      "cell_type": "code",
      "execution_count": null,
      "metadata": {
        "id": "3gQIrBTjLIet"
      },
      "outputs": [],
      "source": [
        "sns.boxplot(x=\"avg_speed\", data=data)\n",
        "plt.xlabel('Average Speed')\n",
        "plt.show()"
      ]
    },
    {
      "cell_type": "code",
      "execution_count": null,
      "metadata": {
        "id": "E9swcB8lLIbb"
      },
      "outputs": [],
      "source": [
        "\n",
        "sns.displot(data=data, x='avg_speed', height=7,aspect=1)\n",
        "plt.show()"
      ]
    },
    {
      "cell_type": "code",
      "execution_count": null,
      "metadata": {
        "id": "jKPZwriGLIX0"
      },
      "outputs": [],
      "source": [
        "print(f\"Skew coefficient is {data['avg_speed'].skew()}\")"
      ]
    },
    {
      "cell_type": "code",
      "execution_count": null,
      "metadata": {
        "id": "rpFTdjiQLIUs"
      },
      "outputs": [],
      "source": [
        "speed_log_skew = np.log(data[\"avg_speed\"]).skew()\n",
        "print(f\" Skew coefficient went from {data['avg_speed'].skew()} to {speed_log_skew}\")"
      ]
    },
    {
      "cell_type": "markdown",
      "metadata": {
        "id": "Yar2FLv_Lg3j"
      },
      "source": [
        "## column 14 and 15: pickup_weekday and drop off weekday\n"
      ]
    },
    {
      "cell_type": "code",
      "execution_count": null,
      "metadata": {
        "id": "HPWpaYSALhlh"
      },
      "outputs": [],
      "source": [
        "sns.countplot(data=data, x='pickup_weekday')\n",
        "plt.ylabel('Number of trip')\n",
        "plt.xlabel('Weekday')\n",
        "plt.title('Number of pickup per day')\n",
        "plt.show()"
      ]
    },
    {
      "cell_type": "markdown",
      "metadata": {
        "id": "M41aGkjNLm7K"
      },
      "source": [
        "number of trips not much of changed in different days.\n"
      ]
    },
    {
      "cell_type": "code",
      "execution_count": null,
      "metadata": {
        "id": "pEYI0eumAOcc"
      },
      "outputs": [],
      "source": [
        "sns.countplot(data=data, x='dropoff_weekday')\n",
        "plt.ylabel('Number of trip')\n",
        "plt.xlabel('Weekday')\n",
        "plt.title('Number of dropoff per day')\n",
        "plt.show()"
      ]
    },
    {
      "cell_type": "markdown",
      "metadata": {
        "id": "-GcyBYvuYxIl"
      },
      "source": [
        "## column 16: pick up hour"
      ]
    },
    {
      "cell_type": "code",
      "execution_count": null,
      "metadata": {
        "id": "-rt6FBPNAOZY"
      },
      "outputs": [],
      "source": [
        "sns.countplot(data=data, x='pickup_hour')\n",
        "plt.ylabel('Number of trip')\n",
        "plt.xlabel('Hour')\n",
        "plt.title('Number of pickup per hour')\n",
        "plt.show()"
      ]
    },
    {
      "cell_type": "markdown",
      "metadata": {
        "id": "aw_bRGZaY542"
      },
      "source": [
        "most number of taxi booked in evening session."
      ]
    },
    {
      "cell_type": "markdown",
      "metadata": {
        "id": "iK58XVxmY-AG"
      },
      "source": [
        "## column 17: month"
      ]
    },
    {
      "cell_type": "code",
      "execution_count": null,
      "metadata": {
        "id": "5agrKsKPAOSR"
      },
      "outputs": [],
      "source": [
        "sns.countplot(data=data, x='month')\n",
        "plt.ylabel('Number of trip')\n",
        "plt.xlabel('Month')\n",
        "plt.title('Number of trip per month')\n",
        "plt.show()"
      ]
    },
    {
      "cell_type": "code",
      "execution_count": null,
      "metadata": {
        "id": "jgrX1dShAOO4"
      },
      "outputs": [],
      "source": [
        "data.month.value_counts()"
      ]
    },
    {
      "cell_type": "markdown",
      "metadata": {
        "id": "FhpE_54-ZIu6"
      },
      "source": [
        "##column 18: pick up time of day"
      ]
    },
    {
      "cell_type": "code",
      "execution_count": null,
      "metadata": {
        "id": "rqLI74WpZIB6"
      },
      "outputs": [],
      "source": [
        "# bar plot for pickup time of a day\n",
        "sns.countplot(data=data, x=\"pickup_timeofday\")\n",
        "plt.xlabel(\"Time of day\")\n",
        "plt.ylabel(\"Number of trip\")\n",
        "plt.title(\"Number of peakup's at time of day\")\n",
        "plt.show()\n"
      ]
    },
    {
      "cell_type": "markdown",
      "metadata": {
        "id": "iv7W35NaZTMu"
      },
      "source": [
        "# Bivariate Analysis"
      ]
    },
    {
      "cell_type": "markdown",
      "metadata": {
        "id": "_2mm3VYeZYlc"
      },
      "source": [
        "### Trip Duration Vs Vendor"
      ]
    },
    {
      "cell_type": "code",
      "execution_count": null,
      "metadata": {
        "id": "4xKOwn8xZNuT"
      },
      "outputs": [],
      "source": [
        "sns.set_style(style='whitegrid')\n",
        "plt.figure(figsize = (7,5))\n",
        "sns.barplot(data.vendor_id,data.trip_duration)\n",
        "plt.xlabel('Vendor ID')\n",
        "plt.ylabel('Trip Duration')\n",
        "plt.show()"
      ]
    },
    {
      "cell_type": "markdown",
      "metadata": {
        "id": "y4bAeEp8Zj-B"
      },
      "source": [
        "* Seems like there is not much difference between Vendoe_ID type 1 and Vendor_ID type 2."
      ]
    },
    {
      "cell_type": "markdown",
      "metadata": {
        "id": "QGiFljB3ZnW1"
      },
      "source": [
        "### Trip Duration Vs Store and Forward Flag"
      ]
    },
    {
      "cell_type": "code",
      "execution_count": null,
      "metadata": {
        "id": "9xRjuG6OZfPk"
      },
      "outputs": [],
      "source": [
        "plt.figure(figsize = (10,5))\n",
        "sns.set_style(style='white')\n",
        "sns.barplot(x=data.store_and_fwd_flag, y=data.trip_duration)\n",
        "plt.xlabel('Store and Forward Flag')\n",
        "plt.ylabel('Duration (seconds)')\n",
        "plt.show()"
      ]
    },
    {
      "cell_type": "markdown",
      "metadata": {
        "id": "9mXB9IfXZsls"
      },
      "source": [
        "* Y type Store and Forward Flag are relatively taking longer trip duration.\n",
        "* Also we found that from univariate analysis only 1% data is having Y type Store and Forward Flag"
      ]
    },
    {
      "cell_type": "markdown",
      "metadata": {
        "id": "2gOrz-zwZwBE"
      },
      "source": [
        "### Trip Duration Vs Pickup Time"
      ]
    },
    {
      "cell_type": "code",
      "execution_count": null,
      "metadata": {
        "id": "TkevSGYjZe2O"
      },
      "outputs": [],
      "source": [
        "fig, axes = plt.subplots(1, 2, figsize=(15, 5), sharey=True)\n",
        "fig.suptitle('Trip Duration Vs Pickup Time')\n",
        "\n",
        "sns.barplot(ax=axes[0], x='pickup_hour',y='trip_duration',data=data)\n",
        "axes[0].set_title('Bar graph')\n",
        "\n",
        "sns.lineplot(ax=axes[1], x='pickup_hour',y='trip_duration',data=data)\n",
        "axes[1].set_title('Line Plot')"
      ]
    },
    {
      "cell_type": "markdown",
      "metadata": {
        "id": "KaLCqHPxZ2Wu"
      },
      "source": [
        "*   We see the trip duration is the maximum around 1 pm to 4 pm.\n",
        "*   Trip duration is the lowest in morning aroud 6 am"
      ]
    },
    {
      "cell_type": "markdown",
      "metadata": {
        "id": "EXgRY8FrZ7FT"
      },
      "source": [
        "### Trip Duration Vs Weekday"
      ]
    },
    {
      "cell_type": "code",
      "execution_count": null,
      "metadata": {
        "id": "UCqBH2VwZz05"
      },
      "outputs": [],
      "source": [
        "plt.figure(figsize = (10,5))\n",
        "sns.barplot(x='pickup_weekday',y='trip_duration',data=data)\n",
        "plt.ylabel('Duration (seconds)')\n",
        "plt.xlabel('')\n",
        "plt.show()"
      ]
    },
    {
      "cell_type": "markdown",
      "metadata": {
        "id": "KarB3rO0Z_yJ"
      },
      "source": [
        "*   Trip duration on Wednesday is longest among all days."
      ]
    },
    {
      "cell_type": "markdown",
      "metadata": {
        "id": "8cTpGJ4dZ_pb"
      },
      "source": [
        "### Trip Duration Vs Month"
      ]
    },
    {
      "cell_type": "code",
      "execution_count": null,
      "metadata": {
        "id": "mSKF-kbmaHRq"
      },
      "outputs": [],
      "source": [
        "plt.figure(figsize = (10,5))\n",
        "sns.barplot(x='month',y='trip_duration', data=data)\n",
        "plt.ylabel('Duration (seconds)')\n",
        "plt.xlabel('Month of Trip ')\n",
        "plt.show()"
      ]
    },
    {
      "cell_type": "markdown",
      "metadata": {
        "id": "I0v8StoIaN8N"
      },
      "source": [
        "* Trip duration gradually increasing from Jan to June"
      ]
    },
    {
      "cell_type": "markdown",
      "metadata": {
        "id": "5HiczuX6aOzW"
      },
      "source": [
        "### Trip Duration Vs Distance"
      ]
    },
    {
      "cell_type": "code",
      "execution_count": null,
      "metadata": {
        "id": "fPPecmyhaHVE"
      },
      "outputs": [],
      "source": [
        "fig, axes = plt.subplots(1, 2, figsize=(10, 5), sharey=True)\n",
        "fig.suptitle('Trip Duration Vs Distance')\n",
        "\n",
        "sns.barplot(ax=axes[0], x=data.distance.groupby(pd.cut(data.distance,np.arange(0,60,10))).mean().round(),y='trip_duration'\n",
        "                                                       ,data=data,ci=None)\n",
        "axes[0].set_title('Bar graph')\n",
        "\n",
        "sns.regplot(ax=axes[1],\n",
        "            x='distance',\n",
        "            y='trip_duration',\n",
        "            data=data)\n",
        "axes[1].set_title('Scatter plot')"
      ]
    },
    {
      "cell_type": "markdown",
      "metadata": {
        "id": "f-rxBcCqabVn"
      },
      "source": [
        "* As the distance increases the trip time also increasing"
      ]
    },
    {
      "cell_type": "markdown",
      "metadata": {
        "id": "jmWr0Ed9ag-n"
      },
      "source": [
        "### Distance Vs Hour"
      ]
    },
    {
      "cell_type": "code",
      "execution_count": null,
      "metadata": {
        "id": "TpSiQ6TKaV-c"
      },
      "outputs": [],
      "source": [
        "plt.figure(figsize = (10,5))\n",
        "sns.lineplot(y='distance',x='pickup_hour',data=data)\n",
        "plt.ylabel('Distance')\n",
        "plt.xlabel('Pickup Hour')\n",
        "plt.show()"
      ]
    },
    {
      "cell_type": "markdown",
      "metadata": {
        "id": "w7rjhHrrarjN"
      },
      "source": [
        "*   Trip distance is highest during early morning hours.\n",
        "*   From 8 am to night 8 pm distance people are riding short distance trips in the range of 3 - 4 kms.\n",
        "\n"
      ]
    },
    {
      "cell_type": "markdown",
      "metadata": {
        "id": "MDOzqFA2avYu"
      },
      "source": [
        "### Distance vs Weekday"
      ]
    },
    {
      "cell_type": "code",
      "execution_count": null,
      "metadata": {
        "id": "23y2gcVHasSC"
      },
      "outputs": [],
      "source": [
        "plt.figure(figsize = (10,5))\n",
        "sns.barplot(x='pickup_weekday', y='distance',data=data)\n",
        "plt.ylabel('Distance')\n",
        "plt.xlabel('')\n",
        "plt.show()"
      ]
    },
    {
      "cell_type": "markdown",
      "metadata": {
        "id": "X9zk-mEoa8go"
      },
      "source": [
        " Sunday being at the top may be due to outstation trips"
      ]
    },
    {
      "cell_type": "markdown",
      "metadata": {
        "id": "UOtv5-OJa_JM"
      },
      "source": [
        "### Distance Vs Month"
      ]
    },
    {
      "cell_type": "code",
      "execution_count": null,
      "metadata": {
        "id": "IXIZdghtax1_"
      },
      "outputs": [],
      "source": [
        "plt.figure(figsize = (10,5))\n",
        "sns.barplot(x='month', y='distance',data=data)\n",
        "plt.ylabel('Distance')\n",
        "plt.xlabel('Month of trip')\n",
        "plt.show()"
      ]
    },
    {
      "cell_type": "markdown",
      "metadata": {
        "id": "MztE3cwsbD0Z"
      },
      "source": [
        "* There is not much differece in distance travelled in each month"
      ]
    },
    {
      "cell_type": "code",
      "execution_count": null,
      "metadata": {
        "id": "TMcguQ4MbEwF"
      },
      "outputs": [],
      "source": [
        "data.info()"
      ]
    },
    {
      "cell_type": "markdown",
      "metadata": {
        "id": "IFBkWjvubNAY"
      },
      "source": [
        "# **feature Engineering** <br>"
      ]
    },
    {
      "cell_type": "markdown",
      "metadata": {
        "id": "iaAdPxiMbRc7"
      },
      "source": [
        "## **Data cleaing and wrangling**"
      ]
    },
    {
      "cell_type": "code",
      "execution_count": null,
      "metadata": {
        "id": "Ok0I2FcJbJbF"
      },
      "outputs": [],
      "source": [
        "data.head()"
      ]
    },
    {
      "cell_type": "code",
      "execution_count": null,
      "metadata": {
        "id": "QBQbwNLTbUtO"
      },
      "outputs": [],
      "source": [
        "# remove column  \"id\" and \"vendor_id\"\n",
        "data.drop([\"id\",'pickup_datetime',\"dropoff_datetime\", \"dropoff_longitude\", \"dropoff_latitude\", \"pickup_longitude\", \"pickup_latitude\",\"pickup_hour\"],axis=1,inplace= True)"
      ]
    },
    {
      "cell_type": "code",
      "execution_count": null,
      "metadata": {
        "id": "8YfZ0UGPAWCb"
      },
      "outputs": [],
      "source": [
        "data.shape"
      ]
    },
    {
      "cell_type": "code",
      "execution_count": null,
      "metadata": {
        "id": "3QB49-cZAZXS"
      },
      "outputs": [],
      "source": [
        "#remove rows with passenger count value =0,7,8,9\n",
        "df = data.loc[~(data['passenger_count']==0)]\n",
        "df = df.loc[~(df['passenger_count'] >= 7)]"
      ]
    },
    {
      "cell_type": "code",
      "execution_count": null,
      "metadata": {
        "id": "P1j1aVhAAbTa"
      },
      "outputs": [],
      "source": [
        "df.passenger_count.value_counts()"
      ]
    },
    {
      "cell_type": "code",
      "execution_count": null,
      "metadata": {
        "id": "kPrNy7UKAdVB"
      },
      "outputs": [],
      "source": [
        "#remove trip duration greater than 5800 second and less han 60 sec.\n",
        "df = df.loc[~(df['trip_duration'] >= 4800)]\n",
        "df = df.loc[~(df['trip_duration'] <= 60)]\n",
        "#plot boxplot for filtered data\n",
        "sns.boxplot(data=df,x='trip_duration')\n",
        "plt.show()"
      ]
    },
    {
      "cell_type": "code",
      "execution_count": null,
      "metadata": {
        "id": "cn_A6hR0Af9J"
      },
      "outputs": [],
      "source": [
        "df.shape"
      ]
    },
    {
      "cell_type": "markdown",
      "metadata": {
        "id": "kFw72bkwAiZ6"
      },
      "source": [
        "Since we removed the data having greater than 80 min(4800sec) so we can remove the distance travelled > 100 km, and we seen that 99 percentile of the distance travelled is about 24 km"
      ]
    },
    {
      "cell_type": "code",
      "execution_count": null,
      "metadata": {
        "id": "2lT4M7bkAgng"
      },
      "outputs": [],
      "source": [
        "#remove distance above 200 and avg_speed above 50 km/hr (As 2015, maximum speed limit was 48.28 kmph)\n",
        "df = df.loc[~((df['distance']>=100) | (df[\"avg_speed\"]>=50))]"
      ]
    },
    {
      "cell_type": "code",
      "execution_count": null,
      "metadata": {
        "id": "MyPSNMHjAldZ"
      },
      "outputs": [],
      "source": [
        "df.shape"
      ]
    },
    {
      "cell_type": "code",
      "execution_count": null,
      "metadata": {
        "id": "ssv5hoV5AoaQ"
      },
      "outputs": [],
      "source": [
        "# remove rows if distance travel is zless less tham or equal to 1 (may be it outliers)\n",
        "df = df[df.distance >= 1]"
      ]
    },
    {
      "cell_type": "code",
      "execution_count": null,
      "metadata": {
        "id": "Z23dzul0AqqY"
      },
      "outputs": [],
      "source": [
        "df.shape"
      ]
    },
    {
      "cell_type": "markdown",
      "metadata": {
        "id": "caD3f1vbAxAp"
      },
      "source": [
        "#corelation "
      ]
    },
    {
      "cell_type": "code",
      "execution_count": null,
      "metadata": {
        "id": "HIaJxJmkHK32"
      },
      "outputs": [],
      "source": [
        " ## Correlation\n",
        "plt.figure(figsize=(15,8))\n",
        "correlation = df.corr()\n",
        "sns.heatmap(abs(correlation), annot=True, cmap='coolwarm')\n",
        "plt.show()"
      ]
    },
    {
      "cell_type": "markdown",
      "metadata": {
        "id": "cTGBGON9IH5U"
      },
      "source": [
        "As we can see that,  <br>\n",
        "\"Avg_speed\" is 56% corealted with distance. <br>\n",
        "\"trip_duration\" is 78% corealted with distance."
      ]
    },
    {
      "cell_type": "code",
      "execution_count": null,
      "metadata": {
        "id": "kjwY7tMcHNR-"
      },
      "outputs": [],
      "source": [
        "#we can also remove \"pickup_weekday_num\" as \"pickup_weekday\" and \"dropoff_weekday\" information also avalibale\n",
        "df.drop(['pickup_weekday_num'],axis=1,inplace=True)"
      ]
    },
    {
      "cell_type": "markdown",
      "metadata": {
        "id": "b9qleKpHIOWt"
      },
      "source": [
        "##check multi collinearity"
      ]
    },
    {
      "cell_type": "code",
      "execution_count": null,
      "metadata": {
        "id": "cDZ_YFY_HNOe"
      },
      "outputs": [],
      "source": [
        "#Multicollinearity\n",
        "from statsmodels.stats.outliers_influence import variance_inflation_factor\n",
        "#define function to call multicollinearity\n",
        "def calc_vif(X):\n",
        "\n",
        "    # Calculating VIF\n",
        "    vif = pd.DataFrame()\n",
        "    vif[\"variables\"] = X.columns\n",
        "    vif[\"VIF\"] = [variance_inflation_factor(X.values, i) for i in range(X.shape[1])]\n",
        "\n",
        "    return(vif)"
      ]
    },
    {
      "cell_type": "code",
      "execution_count": null,
      "metadata": {
        "id": "76IWvRaFHNLX"
      },
      "outputs": [],
      "source": [
        "df.columns"
      ]
    },
    {
      "cell_type": "code",
      "execution_count": null,
      "metadata": {
        "id": "TuTzvtC3HNIa"
      },
      "outputs": [],
      "source": [
        "df.info()"
      ]
    },
    {
      "cell_type": "code",
      "execution_count": null,
      "metadata": {
        "id": "FXaY-GmJHNFF"
      },
      "outputs": [],
      "source": [
        "calc_vif(df[[i for i in df.describe().columns if i not in [\"vendor_id\",'passenger_count','store_and_fwd_flag', 'dropoff_weekday', 'pickup_weekday','month','pickup_timeofday']]])"
      ]
    },
    {
      "cell_type": "markdown",
      "metadata": {
        "id": "qxbcgthOIned"
      },
      "source": [
        "we have also remove the Avg_speed feature from the predictor columns as it highhly  corelated with distance."
      ]
    },
    {
      "cell_type": "code",
      "execution_count": null,
      "metadata": {
        "id": "QMhFigCaHNCJ"
      },
      "outputs": [],
      "source": [
        "calc_vif(df[[i for i in df.describe().columns if i not in ['passenger_count','store_and_fwd_flag', 'dropoff_weekday', 'pickup_weekday','month','pickup_timeofday','avg_speed','vendor_id']]])"
      ]
    },
    {
      "cell_type": "markdown",
      "metadata": {
        "id": "vg-Lo3GV3jfs"
      },
      "source": [
        "##hot encoding"
      ]
    },
    {
      "cell_type": "code",
      "execution_count": null,
      "metadata": {
        "id": "ouCyMhlmIsYf"
      },
      "outputs": [],
      "source": [
        "df.columns"
      ]
    },
    {
      "cell_type": "code",
      "execution_count": null,
      "metadata": {
        "id": "qaZ6HwTT3nFO"
      },
      "outputs": [],
      "source": [
        "#drop column \"pickup_hour\"\n",
        "#df.drop(['avg_speed'],axis=1,inplace=True)"
      ]
    },
    {
      "cell_type": "code",
      "execution_count": null,
      "metadata": {
        "id": "GR2ph5s13164"
      },
      "outputs": [],
      "source": [
        "# One hot encoding\n",
        "final_data = pd.get_dummies(df, columns=[\"vendor_id\",\n",
        "                                         \"passenger_count\",\n",
        "                                         \"store_and_fwd_flag\",\n",
        "                                         \"pickup_weekday\",\n",
        "                                         \"dropoff_weekday\",\n",
        "                                         \"month\",\n",
        "                                         \"pickup_timeofday\"])"
      ]
    },
    {
      "cell_type": "code",
      "execution_count": null,
      "metadata": {
        "id": "xBiPpZUh38Oj"
      },
      "outputs": [],
      "source": [
        "final_data.head()"
      ]
    },
    {
      "cell_type": "code",
      "execution_count": null,
      "metadata": {
        "id": "qTVEU1CX38Lc"
      },
      "outputs": [],
      "source": [
        "final_data.shape"
      ]
    },
    {
      "cell_type": "markdown",
      "metadata": {
        "id": "jlVp_Gjq4DX_"
      },
      "source": [
        "Now we see corelation heatmap between each feature to choose best feature."
      ]
    },
    {
      "cell_type": "code",
      "execution_count": null,
      "metadata": {
        "id": "QrCTrPzT38FS"
      },
      "outputs": [],
      "source": [
        " ## Correlation\n",
        "plt.figure(figsize=(15,15))\n",
        "correlation_1 = final_data.corr()\n",
        "sns.heatmap(abs(correlation_1), annot=True, cmap='coolwarm')\n",
        "plt.show()"
      ]
    },
    {
      "cell_type": "markdown",
      "metadata": {
        "id": "Rpy1Hntm4JWi"
      },
      "source": [
        "# build function"
      ]
    },
    {
      "cell_type": "code",
      "execution_count": null,
      "metadata": {
        "id": "8MsGEtFP38CT"
      },
      "outputs": [],
      "source": [
        "mean_sq_error_train = []\n",
        "root_mean_sq_error_train = []\n",
        "r2_list_train = []\n",
        "adj_r2_list_train = []\n",
        "\n",
        "mean_sq_error_test = []\n",
        "root_mean_sq_error_test = []\n",
        "r2_list_test = []\n",
        "adj_r2_list_test = []"
      ]
    },
    {
      "cell_type": "code",
      "execution_count": null,
      "metadata": {
        "id": "d0MNdoyL4M-f"
      },
      "outputs": [],
      "source": [
        "#score matrix (MSE, RMSE, r2, Adjusted r2)\n",
        "def score_matrix(y_train, y_pred_train, y_test, y_pred_test):\n",
        "  print(f'**Train dataset score**')\n",
        "  print(\"\\n\")\n",
        "  # Train performance\n",
        "  MSE_train = mean_squared_error(y_train, y_pred_train)\n",
        "  print(f'Mean squared error is: {MSE_train }')\n",
        "  RMSE_train = math.sqrt(mean_squared_error(y_train, y_pred_train))\n",
        "  print(f'Root Mean squared error is: {RMSE_train}')\n",
        "  r2_train = r2_score(y_train, y_pred_train)\n",
        "  print(f'r2: {r2_train}')\n",
        "  adjusted_r2_train = 1-(1-r2_score(y_train, y_pred_train))*((X_train.shape[0]-1)/(X_train.shape[0]-X_train.shape[1]-1))\n",
        "  print(f'Adjusted r2: {adjusted_r2_train}')\n",
        "  print(\"\\n\")\n",
        "  #test _performace\n",
        "  print(f'**Test dataset score**')\n",
        "  print(\"\\n\")\n",
        "  MSE_test = mean_squared_error(y_test, y_pred_test)\n",
        "  print(f'Mean squared error is: {MSE_test}')\n",
        "  RMSE_test = math.sqrt(mean_squared_error(y_test, y_pred_test))\n",
        "  print(f'Root Mean squared error is: {RMSE_test}')\n",
        "  r2_test = r2_score(y_test, y_pred_test)\n",
        "  print(f'r2: {r2_test}')\n",
        "  adjusted_r2_test = 1-(1-r2_score(y_test, y_pred_test))*((X_test.shape[0]-1)/(X_test.shape[0]-X_test.shape[1]-1))\n",
        "  print(f'Adjusted r2: {adjusted_r2_test}')\n",
        "\n",
        "  mean_sq_error_train.append(MSE_train)\n",
        "  root_mean_sq_error_train.append(RMSE_train)\n",
        "  r2_list_train.append(r2_train)\n",
        "  adj_r2_list_train.append(adjusted_r2_train)\n",
        "\n",
        "  mean_sq_error_test.append(MSE_test)\n",
        "  root_mean_sq_error_test.append(RMSE_test)\n",
        "  r2_list_test.append(r2_test)\n",
        "  adj_r2_list_test.append(adjusted_r2_test)"
      ]
    },
    {
      "cell_type": "code",
      "execution_count": null,
      "metadata": {
        "id": "QseGLcSssF1G"
      },
      "outputs": [],
      "source": [
        "import matplotlib.pyplot as plt\n",
        "\n",
        "# Plot the validation and training data separately\n",
        "def plot_loss_curves(history):\n",
        "  \"\"\"\n",
        "  Returns separate loss curves for training and validation metrics.\n",
        "  \"\"\" \n",
        "  loss = history.history['loss']\n",
        "  val_loss = history.history['val_loss']\n",
        "\n",
        "  accuracy = history.history['mse']\n",
        "  val_accuracy = history.history['val_mse']\n",
        "\n",
        "  epochs = range(len(history.history['loss']))\n",
        "\n",
        "  # Plot loss\n",
        "  plt.plot(epochs, loss, label='training_loss')\n",
        "  plt.plot(epochs, val_loss, label='val_loss')\n",
        "  plt.title('Loss')\n",
        "  plt.xlabel('Epochs')\n",
        "  plt.legend()\n",
        "\n",
        "  # Plot accuracy\n",
        "  plt.figure()\n",
        "  plt.plot(epochs, accuracy, label='training_accuracy')\n",
        "  plt.plot(epochs, val_accuracy, label='val_accuracy')\n",
        "  plt.title('MSE')\n",
        "  plt.xlabel('Epochs')\n",
        "  plt.legend();"
      ]
    },
    {
      "cell_type": "markdown",
      "metadata": {
        "id": "ngv8Vtl9sMos"
      },
      "source": [
        "#build model "
      ]
    },
    {
      "cell_type": "markdown",
      "metadata": {
        "id": "7t-mmg0SsR4e"
      },
      "source": [
        "## train and test spilt\n"
      ]
    },
    {
      "cell_type": "code",
      "execution_count": null,
      "metadata": {
        "id": "9S-k2_rTsFx6"
      },
      "outputs": [],
      "source": [
        "#importing the libraries\n",
        "from sklearn.preprocessing import MinMaxScaler\n",
        "from sklearn.model_selection import train_test_split\n",
        "from sklearn.linear_model import LinearRegression\n",
        "from sklearn.metrics import r2_score\n",
        "from sklearn.metrics import mean_squared_error\n",
        "from sklearn.model_selection import train_test_split "
      ]
    },
    {
      "cell_type": "code",
      "execution_count": null,
      "metadata": {
        "id": "gqi95aWzsFnX"
      },
      "outputs": [],
      "source": [
        "final_data.head()"
      ]
    },
    {
      "cell_type": "code",
      "execution_count": null,
      "metadata": {
        "id": "mp0SSke5sYVR"
      },
      "outputs": [],
      "source": [
        "final_data.shape"
      ]
    },
    {
      "cell_type": "code",
      "execution_count": null,
      "metadata": {
        "id": "L1d_2NkDsa4q"
      },
      "outputs": [],
      "source": [
        "y = final_data['trip_duration']\n",
        "y.head()"
      ]
    },
    {
      "cell_type": "code",
      "execution_count": null,
      "metadata": {
        "id": "0O9QJ4tgse5D"
      },
      "outputs": [],
      "source": [
        "from scipy.stats import zscore\n",
        "#select feature\n",
        "#minmaxscaler\n",
        "X = final_data.loc[:,final_data.columns != 'trip_duration']"
      ]
    },
    {
      "cell_type": "code",
      "execution_count": null,
      "metadata": {
        "id": "1E8K6pD-snvj"
      },
      "outputs": [],
      "source": [
        "X.head()"
      ]
    },
    {
      "cell_type": "code",
      "execution_count": null,
      "metadata": {
        "id": "xvDvdsiTst1g"
      },
      "outputs": [],
      "source": [
        "X.shape"
      ]
    },
    {
      "cell_type": "code",
      "execution_count": null,
      "metadata": {
        "id": "vtg9P_uRstsi"
      },
      "outputs": [],
      "source": [
        "X.info()"
      ]
    },
    {
      "cell_type": "code",
      "execution_count": null,
      "metadata": {
        "id": "Tl-66M8jsy-a"
      },
      "outputs": [],
      "source": [
        "#split train and test data\n",
        "X_train, X_test, y_train, y_test = train_test_split( X,y , test_size = 0.2, random_state = 0) \n",
        "print(X_train.shape)\n",
        "print(X_test.shape)"
      ]
    },
    {
      "cell_type": "code",
      "execution_count": null,
      "metadata": {
        "id": "x_rOw0xQsy6i"
      },
      "outputs": [],
      "source": [
        "# Transforming data\n",
        "scaler = MinMaxScaler()\n",
        "X_train = scaler.fit_transform(X_train)\n",
        "X_test = scaler.transform(X_test)"
      ]
    },
    {
      "cell_type": "markdown",
      "metadata": {
        "id": "QEFJgTcms8oh"
      },
      "source": [
        "#linear regression"
      ]
    },
    {
      "cell_type": "code",
      "execution_count": null,
      "metadata": {
        "id": "eVRlkjnNsyx5"
      },
      "outputs": [],
      "source": [
        "from sklearn.linear_model import LinearRegression\n",
        "\n",
        "linear_regression = LinearRegression().fit(X_train,y_train)"
      ]
    },
    {
      "cell_type": "code",
      "execution_count": null,
      "metadata": {
        "id": "ZY4qvcN6tOx6"
      },
      "outputs": [],
      "source": [
        "linear_regression.score(X_train,y_train)"
      ]
    },
    {
      "cell_type": "code",
      "execution_count": null,
      "metadata": {
        "id": "WxWYoKZstYPI"
      },
      "outputs": [],
      "source": [
        "linear_regression.coef_"
      ]
    },
    {
      "cell_type": "code",
      "execution_count": null,
      "metadata": {
        "id": "2bkrejgrteld"
      },
      "outputs": [],
      "source": [
        "linear_regression.intercept_"
      ]
    },
    {
      "cell_type": "code",
      "execution_count": null,
      "metadata": {
        "id": "4_Y1-deHtkwd"
      },
      "outputs": [],
      "source": [
        "y_pred_train =linear_regression.predict(X_train)"
      ]
    },
    {
      "cell_type": "code",
      "execution_count": null,
      "metadata": {
        "id": "_R0CO63VuCoA"
      },
      "outputs": [],
      "source": [
        "y_pred = linear_regression.predict(X_test)"
      ]
    },
    {
      "cell_type": "code",
      "execution_count": null,
      "metadata": {
        "id": "-ZBOqs1vuLQa"
      },
      "outputs": [],
      "source": [
        "X_train.shape"
      ]
    },
    {
      "cell_type": "code",
      "execution_count": null,
      "metadata": {
        "id": "DHd_FL57uMQe"
      },
      "outputs": [],
      "source": [
        "d = pd.DataFrame({\"actual\":y_test,\"predicted\":y_pred})\n",
        "\n",
        "d.head()"
      ]
    },
    {
      "cell_type": "code",
      "execution_count": null,
      "metadata": {
        "id": "athB0W3PuPpQ"
      },
      "outputs": [],
      "source": [
        "score_matrix(y_train=y_train, y_pred_train = y_pred_train, y_test = y_test, y_pred_test=y_pred )"
      ]
    },
    {
      "cell_type": "markdown",
      "metadata": {
        "id": "FvYanfs4CaWl"
      },
      "source": [
        "#implementing Lasso regression"
      ]
    },
    {
      "cell_type": "code",
      "execution_count": 150,
      "metadata": {
        "id": "WNJ0mlAHuarV",
        "colab": {
          "base_uri": "https://localhost:8080/"
        },
        "outputId": "20b704da-1905-49a9-b72f-693eb8c680cb"
      },
      "outputs": [
        {
          "output_type": "execute_result",
          "data": {
            "text/plain": [
              "Lasso(alpha=0.01, max_iter=3000)"
            ]
          },
          "metadata": {},
          "execution_count": 150
        }
      ],
      "source": [
        "from sklearn.linear_model import Lasso\n",
        "lasso  = Lasso(alpha=0.01 , max_iter= 3000)\n",
        "\n",
        "lasso.fit(X_train, y_train)"
      ]
    },
    {
      "cell_type": "code",
      "execution_count": null,
      "metadata": {
        "id": "VJgLdiGMH8w2"
      },
      "outputs": [],
      "source": [
        "lasso.score(X_train, y_train)"
      ]
    },
    {
      "cell_type": "markdown",
      "metadata": {
        "id": "E9UMQ1LpIBeB"
      },
      "source": [
        "cross validation"
      ]
    },
    {
      "cell_type": "code",
      "execution_count": null,
      "metadata": {
        "id": "aGgztl1eH9lr"
      },
      "outputs": [],
      "source": [
        "from sklearn.model_selection import GridSearchCV"
      ]
    },
    {
      "cell_type": "code",
      "execution_count": null,
      "metadata": {
        "id": "WRlx6lqLIGzu"
      },
      "outputs": [],
      "source": [
        "### Cross validation\n",
        "lasso = Lasso()\n",
        "parameters = {'alpha': [1e-15,1e-13,1e-10,1e-8,1e-5,1e-4,1e-3,1e-2,1e-1,1,5,10,20,30,40,45,50,55,60,100]}\n",
        "lasso_regressor = GridSearchCV(lasso, parameters, scoring='neg_mean_squared_error', cv=3)\n",
        "lasso_regressor.fit(X_train, y_train)"
      ]
    },
    {
      "cell_type": "code",
      "execution_count": null,
      "metadata": {
        "id": "Dk7j325aIKsz"
      },
      "outputs": [],
      "source": [
        "print(\"The best fit alpha value is found out to be :\" ,lasso_regressor.best_params_)\n",
        "print(\"\\nUsing \",lasso_regressor.best_params_, \" the negative mean squared error is: \", lasso_regressor.best_score_)"
      ]
    },
    {
      "cell_type": "code",
      "execution_count": null,
      "metadata": {
        "id": "HinKbBl7IKjb"
      },
      "outputs": [],
      "source": [
        "y_pred_train_lasso = lasso_regressor.predict(X_train)"
      ]
    },
    {
      "cell_type": "code",
      "source": [
        "y_pred_lasso = lasso_regressor.predict(X_test)"
      ],
      "metadata": {
        "id": "u1TGfHfmkwbt"
      },
      "execution_count": null,
      "outputs": []
    },
    {
      "cell_type": "code",
      "source": [
        "score_matrix(y_train=y_train, y_pred_train = y_pred_train_lasso, y_test = y_test, y_pred_test=y_pred_lasso )"
      ],
      "metadata": {
        "id": "UuwqkOzwkwYQ"
      },
      "execution_count": null,
      "outputs": []
    },
    {
      "cell_type": "markdown",
      "source": [
        "#implementng Ridge regression"
      ],
      "metadata": {
        "id": "qGvXZckak-IO"
      }
    },
    {
      "cell_type": "code",
      "source": [
        "from sklearn.linear_model import Ridge\n",
        "\n",
        "ridge  = Ridge(alpha=0.01)"
      ],
      "metadata": {
        "id": "W8LPZT_xk-8U"
      },
      "execution_count": null,
      "outputs": []
    },
    {
      "cell_type": "code",
      "source": [
        "ridge.fit(X_train,y_train)"
      ],
      "metadata": {
        "id": "Td_J4qJclFIo"
      },
      "execution_count": null,
      "outputs": []
    },
    {
      "cell_type": "code",
      "source": [
        "ridge.score(X_train, y_train)"
      ],
      "metadata": {
        "id": "SUy3HHXTlIJi"
      },
      "execution_count": null,
      "outputs": []
    },
    {
      "cell_type": "code",
      "source": [
        "y_pred_train_ridge = ridge.predict(X_train)"
      ],
      "metadata": {
        "id": "YE3xDZntlLjn"
      },
      "execution_count": null,
      "outputs": []
    },
    {
      "cell_type": "code",
      "source": [
        "y_pred_ridge = ridge.predict(X_test)"
      ],
      "metadata": {
        "id": "33oQ1x1blOL2"
      },
      "execution_count": null,
      "outputs": []
    },
    {
      "cell_type": "code",
      "source": [
        "score_matrix(y_train=y_train, y_pred_train = y_pred_train_ridge, y_test = y_test, y_pred_test=y_pred_ridge )"
      ],
      "metadata": {
        "id": "L6Rfn_cClRc7"
      },
      "execution_count": null,
      "outputs": []
    },
    {
      "cell_type": "code",
      "source": [
        "##cross validation\n",
        "ridge = Ridge()\n",
        "parameters = {'alpha': [1e-15,1e-10,1e-8,1e-5,1e-4,1e-3,1e-2,1,5,10,20,30,40,45,50,55,60,100]}\n",
        "ridge_regressor = GridSearchCV(ridge, parameters, scoring='neg_mean_squared_error', cv=3)\n",
        "ridge_regressor.fit(X_train,y_train)"
      ],
      "metadata": {
        "id": "13u6jEdkljsW"
      },
      "execution_count": null,
      "outputs": []
    },
    {
      "cell_type": "code",
      "source": [
        "print(\"The best fit alpha value is found out to be :\" ,ridge_regressor.best_params_)\n",
        "print(\"\\nUsing \",ridge_regressor.best_params_, \" the negative mean squared error is: \", ridge_regressor.best_score_)"
      ],
      "metadata": {
        "id": "BrWx42_hmV54"
      },
      "execution_count": null,
      "outputs": []
    },
    {
      "cell_type": "code",
      "source": [
        "#Model Prediction\n",
        "#train \n",
        "y_pred_ridge_cv_train = ridge_regressor.predict(X_train)\n",
        "y_pred_ridge_cv = ridge_regressor.predict(X_test)\n"
      ],
      "metadata": {
        "id": "Y-eD5zSRmf3M"
      },
      "execution_count": null,
      "outputs": []
    },
    {
      "cell_type": "code",
      "source": [
        "score_matrix(y_train=y_train, y_pred_train = y_pred_ridge_cv_train, y_test = y_test, y_pred_test=y_pred_ridge_cv )"
      ],
      "metadata": {
        "id": "wXmpCRyOmjkI"
      },
      "execution_count": null,
      "outputs": []
    },
    {
      "cell_type": "markdown",
      "source": [
        "#desicion tree"
      ],
      "metadata": {
        "id": "I55Yuv98nPum"
      }
    },
    {
      "cell_type": "code",
      "source": [
        "from sklearn.tree import DecisionTreeRegressor"
      ],
      "metadata": {
        "id": "T4N0umpMnQY1"
      },
      "execution_count": null,
      "outputs": []
    },
    {
      "cell_type": "code",
      "source": [
        "dt_reg = DecisionTreeRegressor( max_leaf_nodes=10, random_state=0)\n",
        "dt_reg.fit(X_train, y_train)"
      ],
      "metadata": {
        "id": "UX11qJjjWyKl"
      },
      "execution_count": null,
      "outputs": []
    },
    {
      "cell_type": "code",
      "source": [
        "dt_y_predicted_train = dt_reg.predict(X_train)"
      ],
      "metadata": {
        "id": "pGDwYNuHWyHN"
      },
      "execution_count": null,
      "outputs": []
    },
    {
      "cell_type": "code",
      "source": [
        "#prediction on test set\n",
        "dt_y_predicted =dt_reg.predict(X_test"
      ],
      "metadata": {
        "id": "eaWFOQbYWyEA"
      },
      "execution_count": null,
      "outputs": []
    },
    {
      "cell_type": "code",
      "source": [
        ""
      ],
      "metadata": {
        "id": "9xsEN6zWWyAX"
      },
      "execution_count": null,
      "outputs": []
    }
  ],
  "metadata": {
    "colab": {
      "collapsed_sections": [],
      "name": "NYC Taxi Trip Time Prediction - Capstone Project.ipynb",
      "provenance": [],
      "toc_visible": true,
      "include_colab_link": true
    },
    "kernelspec": {
      "display_name": "Python 3",
      "language": "python",
      "name": "python3"
    },
    "language_info": {
      "codemirror_mode": {
        "name": "ipython",
        "version": 3
      },
      "file_extension": ".py",
      "mimetype": "text/x-python",
      "name": "python",
      "nbconvert_exporter": "python",
      "pygments_lexer": "ipython3",
      "version": "3.6.6"
    }
  },
  "nbformat": 4,
  "nbformat_minor": 0
}